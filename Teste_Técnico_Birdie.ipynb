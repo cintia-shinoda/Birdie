{
  "nbformat": 4,
  "nbformat_minor": 0,
  "metadata": {
    "colab": {
      "name": "Teste Técnico - Birdie.ipynb",
      "provenance": [],
      "authorship_tag": "ABX9TyMo8ZAs49eDew43rPfjVu2d",
      "include_colab_link": true
    },
    "kernelspec": {
      "name": "python3",
      "display_name": "Python 3"
    }
  },
  "cells": [
    {
      "cell_type": "markdown",
      "metadata": {
        "id": "view-in-github",
        "colab_type": "text"
      },
      "source": [
        "<a href=\"https://colab.research.google.com/github/cintia-shinoda/Birdie/blob/master/Teste_T%C3%A9cnico_Birdie.ipynb\" target=\"_parent\"><img src=\"https://colab.research.google.com/assets/colab-badge.svg\" alt=\"Open In Colab\"/></a>"
      ]
    },
    {
      "cell_type": "markdown",
      "metadata": {
        "id": "1TOP2f7K96x7",
        "colab_type": "text"
      },
      "source": [
        
        "\n",
        "**Instruções para Execução:**\n",
        "Antes de executar o Jupyter Notebook, fazer o upload do arquivo tech_test.tsv.\n",
        "\n",
        "\n",
        "\n",
        "**Objetivo:**\n",
        "Extrair aspectos de um conjunto de reviews bem-estruturado e apresentar insights sobre as suas descobertas. Opcionalmente, criar/propor gráficos para visualização desses insights.\n",
        "\n",
        "**Detalhes:**\n",
        "Nós usamos informações de usuários para encurtar a ponte entre consumidor e marca, criando observações pontuais sobre seus produtos pra facilitar seu entendimento. Uma das partes de nosso processo de enriquecimento de informação é a extração de aspectos: palavras dentro de um texto que codificam uma característica de seu funcionamento, estrutura, ou do processo de compra (entrega, SAC, consertos e problemas). Por exemplo:\n",
        "\n",
        "> This phone has a great battery life and a slick screen, but I'm not a fan of the lack of a headphone jack.\n",
        "\n",
        "> The store attendant was such a dear! She helped me lots with the return process and even gave me a future discount.\n",
        "\n",
        "Usando essas informações, nós descobrimos e respondemos perguntas relevantes aos nossos clientes sobre o quê está sendo falado nos canais de venda de seus produtos. Nosso teste envolve utilizar uma base de reviews bem-estruturados com diversas informações que coletamos de retailers americanos para:\n",
        "\n",
        "- Encontrar uma maneira de extrair estes aspectos;\n",
        "- Explorar essas informações para gerar insights (por exemplo, quais aspectos estão mais relacionados com reviews positivos?);\n",
        "- Opcionalmente, criar gráficos e propostas de visualizações para suas observações.\n",
        "\n",
        "Aqui, queremos analisar o seu pensamento e processo de desenvolvimento e teste de ideias: não queremos só o melhor método que você encontrar. É mais importante mostrar seu raciocínio do que estar correto! Bote suas hipóteses para solucionar estes problemas em seu código ou em uma apresentação separada, e vá passando por elas uma a uma.\n",
        "Como aqui na empresa utilizamos Python diariamente, recomendamos a linguagem para este teste. Um Jupyter Notebook com o seu processo de desenvolvimento bem documentado e visual é o melhor canal pra você apresentar seus resultados pra gente.\n",
        "\n",
        "**Keywords** para facilitar sua pesquisa:\n",
        "nlp, named entity recognition, syntax pattern matching, feature extraction, topic representation, word embedding, sentence embedding\n",
        "\n",
        "**Insumos:**\n",
        "- User Reviews de Refrigeradores coletados em 2019/2020. Pode haver duplicações entre SKUs diferentes: duas cores de um refrigerador podem ter o mesmo review."
      ]
    },
    {
      "cell_type": "markdown",
      "metadata": {
        "id": "EOGCI2y98o4t",
        "colab_type": "text"
      },
      "source": [
        "### Carregando o dataset"
      ]
    },
    {
      "cell_type": "code",
      "metadata": {
        "id": "db9HdCHElBu0",
        "colab_type": "code",
        "colab": {}
      },
      "source": [
        "import pandas as pd"
      ],
      "execution_count": 16,
      "outputs": []
    },
    {
      "cell_type": "code",
      "metadata": {
        "id": "IfDpm12OqfvY",
        "colab_type": "code",
        "colab": {}
      },
      "source": [
        "df = pd.read_csv('tech_test.tsv')"
      ],
      "execution_count": 17,
      "outputs": []
    },
    {
      "cell_type": "markdown",
      "metadata": {
        "id": "Ji3R-Yon82C5",
        "colab_type": "text"
      },
      "source": [
        "### EDA"
      ]
    },
    {
      "cell_type": "code",
      "metadata": {
        "id": "6q-KTqByqoSd",
        "colab_type": "code",
        "colab": {
          "base_uri": "https://localhost:8080/",
          "height": 34
        },
        "outputId": "d18c5b30-382d-4780-dd7d-db6248ec7c8f"
      },
      "source": [
        "df.shape"
      ],
      "execution_count": 18,
      "outputs": [
        {
          "output_type": "execute_result",
          "data": {
            "text/plain": [
              "(20473, 25)"
            ]
          },
          "metadata": {
            "tags": []
          },
          "execution_count": 18
        }
      ]
    },
    {
      "cell_type": "code",
      "metadata": {
        "id": "K3ubKo44tc6L",
        "colab_type": "code",
        "colab": {
          "base_uri": "https://localhost:8080/",
          "height": 957
        },
        "outputId": "9a617c0a-20ae-4465-bfd8-c650d1a73e6f"
      },
      "source": [
        "df.head(10)"
      ],
      "execution_count": 19,
      "outputs": [
        {
          "output_type": "execute_result",
          "data": {
            "text/html": [
              "<div>\n",
              "<style scoped>\n",
              "    .dataframe tbody tr th:only-of-type {\n",
              "        vertical-align: middle;\n",
              "    }\n",
              "\n",
              "    .dataframe tbody tr th {\n",
              "        vertical-align: top;\n",
              "    }\n",
              "\n",
              "    .dataframe thead th {\n",
              "        text-align: right;\n",
              "    }\n",
              "</style>\n",
              "<table border=\"1\" class=\"dataframe\">\n",
              "  <thead>\n",
              "    <tr style=\"text-align: right;\">\n",
              "      <th></th>\n",
              "      <th>retailer</th>\n",
              "      <th>category</th>\n",
              "      <th>breadcrumb</th>\n",
              "      <th>brand</th>\n",
              "      <th>offer_url</th>\n",
              "      <th>offer_sku</th>\n",
              "      <th>offer_retailer</th>\n",
              "      <th>offer_title</th>\n",
              "      <th>title_keywords</th>\n",
              "      <th>price</th>\n",
              "      <th>specs</th>\n",
              "      <th>offer_last_update_at</th>\n",
              "      <th>review_id</th>\n",
              "      <th>review_title</th>\n",
              "      <th>review_body</th>\n",
              "      <th>review_user_rating</th>\n",
              "      <th>review_posted_at</th>\n",
              "      <th>review_year</th>\n",
              "      <th>review_month</th>\n",
              "      <th>review_week</th>\n",
              "      <th>review_day</th>\n",
              "      <th>review_collected_at</th>\n",
              "      <th>locale</th>\n",
              "      <th>original_offer</th>\n",
              "      <th>variant</th>\n",
              "    </tr>\n",
              "  </thead>\n",
              "  <tbody>\n",
              "    <tr>\n",
              "      <th>0</th>\n",
              "      <td>lowes</td>\n",
              "      <td>Refrigerators</td>\n",
              "      <td>[\"Appliances\", \"Refrigerators\", \"Side-by-Side ...</td>\n",
              "      <td>General Electric</td>\n",
              "      <td>https://www.lowes.com/pd/GE-25-3-cu-ft-Side-by...</td>\n",
              "      <td>1000859768</td>\n",
              "      <td>lowes</td>\n",
              "      <td>GE 25.3-cu ft Side-by-Side Refrigerator with I...</td>\n",
              "      <td>'25.3':2 'by':7 'cu':3 'fingerprint':14 'finge...</td>\n",
              "      <td>NaN</td>\n",
              "      <td>{'brand': ['GE', 'Ge'], 'model': ['GSS25IYNFS'...</td>\n",
              "      <td>2020-05-26 21:51:27.805520</td>\n",
              "      <td>218183104</td>\n",
              "      <td>Functional</td>\n",
              "      <td>Pros: fingerprint resistant so you don't have ...</td>\n",
              "      <td>3.0</td>\n",
              "      <td>2020-03-23</td>\n",
              "      <td>2020</td>\n",
              "      <td>3</td>\n",
              "      <td>13</td>\n",
              "      <td>23</td>\n",
              "      <td>2020-04-24 15:58:56.293182</td>\n",
              "      <td>us</td>\n",
              "      <td>True</td>\n",
              "      <td>['1000859768', '1000859852']</td>\n",
              "    </tr>\n",
              "    <tr>\n",
              "      <th>1</th>\n",
              "      <td>lowes</td>\n",
              "      <td>Refrigerators</td>\n",
              "      <td>[\"Appliances\", \"Refrigerators\", \"Side-by-Side ...</td>\n",
              "      <td>General Electric</td>\n",
              "      <td>https://www.lowes.com/pd/GE-25-1-cu-ft-Side-by...</td>\n",
              "      <td>1000859852</td>\n",
              "      <td>lowes</td>\n",
              "      <td>GE 25.1-cu ft Side-by-Side Refrigerator with I...</td>\n",
              "      <td>'25.1':2 'black':13 'by':7 'cu':3 'ft':4 'ge':...</td>\n",
              "      <td>NaN</td>\n",
              "      <td>{'brand': ['GE', 'Ge'], 'model': ['GSS25IBNTS'...</td>\n",
              "      <td>2020-05-26 21:51:28.597592</td>\n",
              "      <td>218183104</td>\n",
              "      <td>Functional</td>\n",
              "      <td>Pros: fingerprint resistant so you don't have ...</td>\n",
              "      <td>3.0</td>\n",
              "      <td>2020-03-23</td>\n",
              "      <td>2020</td>\n",
              "      <td>3</td>\n",
              "      <td>13</td>\n",
              "      <td>23</td>\n",
              "      <td>2020-04-24 14:55:13.485647</td>\n",
              "      <td>us</td>\n",
              "      <td>False</td>\n",
              "      <td>['1000859768', '1000859852']</td>\n",
              "    </tr>\n",
              "    <tr>\n",
              "      <th>2</th>\n",
              "      <td>lowes</td>\n",
              "      <td>Refrigerators</td>\n",
              "      <td>[\"Appliances\", \"Refrigerators\", \"French Door R...</td>\n",
              "      <td>Frigidaire</td>\n",
              "      <td>https://www.lowes.com/pd/Frigidaire-Gallery-21...</td>\n",
              "      <td>1000289721</td>\n",
              "      <td>lowes</td>\n",
              "      <td>Frigidaire Gallery 21.7-cu ft Counter-depth Fr...</td>\n",
              "      <td>'21.7':3 'counter':7 'counter-depth':6 'cu':4 ...</td>\n",
              "      <td>NaN</td>\n",
              "      <td>{'brand': ['Frigidaire', 'Frigidaire'], 'model...</td>\n",
              "      <td>2020-05-26 21:50:49.940754</td>\n",
              "      <td>190217370</td>\n",
              "      <td>Ample Door Storage User Friendly Visibility</td>\n",
              "      <td>Feels solid and âupscaleâ. Excellent desig...</td>\n",
              "      <td>5.0</td>\n",
              "      <td>2019-09-28</td>\n",
              "      <td>2019</td>\n",
              "      <td>9</td>\n",
              "      <td>39</td>\n",
              "      <td>28</td>\n",
              "      <td>2020-03-30 23:53:02.331711</td>\n",
              "      <td>us</td>\n",
              "      <td>True</td>\n",
              "      <td>['1000289721']</td>\n",
              "    </tr>\n",
              "    <tr>\n",
              "      <th>3</th>\n",
              "      <td>bestbuy_us</td>\n",
              "      <td>Refrigerators</td>\n",
              "      <td>[\"Best Buy\", \"Appliances\", \"Refrigerators\", \"B...</td>\n",
              "      <td>Whirlpool</td>\n",
              "      <td>https://www.bestbuy.com/site/whirlpool-21-9-cu...</td>\n",
              "      <td>3928039</td>\n",
              "      <td>bestbuy_us</td>\n",
              "      <td>Whirlpool - 21.9 Cu. Ft. Bottom-Freezer Refrig...</td>\n",
              "      <td>'21.9':2 'bottom':6 'bottom-freezer':5 'cu':3 ...</td>\n",
              "      <td>NaN</td>\n",
              "      <td>{'brand': ['whirlpool'], 'Other_UPC': ['883049...</td>\n",
              "      <td>2020-06-05 18:35:55.990040</td>\n",
              "      <td>c407068f-f900-3478-a983-ad74754c1460</td>\n",
              "      <td>So much room</td>\n",
              "      <td>I love this fridge. So much room over having a...</td>\n",
              "      <td>5.0</td>\n",
              "      <td>2019-12-13</td>\n",
              "      <td>2019</td>\n",
              "      <td>12</td>\n",
              "      <td>50</td>\n",
              "      <td>13</td>\n",
              "      <td>2020-04-28 14:09:38.255158</td>\n",
              "      <td>us</td>\n",
              "      <td>True</td>\n",
              "      <td>['3928039', '3928048', '3979801', '6112639']</td>\n",
              "    </tr>\n",
              "    <tr>\n",
              "      <th>4</th>\n",
              "      <td>bestbuy_us</td>\n",
              "      <td>Refrigerators</td>\n",
              "      <td>[\"Best Buy\", \"Appliances\", \"Refrigerators\", \"B...</td>\n",
              "      <td>Whirlpool</td>\n",
              "      <td>https://www.bestbuy.com/site/whirlpool-21-9-cu...</td>\n",
              "      <td>3979801</td>\n",
              "      <td>bestbuy_us</td>\n",
              "      <td>Whirlpool - 21.9 Cu. Ft. Bottom-Freezer Refrig...</td>\n",
              "      <td>'21.9':2 'black':9 'bottom':6 'bottom-freezer'...</td>\n",
              "      <td>NaN</td>\n",
              "      <td>{'brand': ['whirlpool'], 'Other_UPC': ['883049...</td>\n",
              "      <td>2020-06-05 17:55:04.244327</td>\n",
              "      <td>c407068f-f900-3478-a983-ad74754c1460</td>\n",
              "      <td>So much room</td>\n",
              "      <td>I love this fridge. So much room over having a...</td>\n",
              "      <td>5.0</td>\n",
              "      <td>2019-12-13</td>\n",
              "      <td>2019</td>\n",
              "      <td>12</td>\n",
              "      <td>50</td>\n",
              "      <td>13</td>\n",
              "      <td>2020-04-28 14:09:41.960342</td>\n",
              "      <td>us</td>\n",
              "      <td>False</td>\n",
              "      <td>['3928039', '3928048', '3979801', '6112639']</td>\n",
              "    </tr>\n",
              "    <tr>\n",
              "      <th>5</th>\n",
              "      <td>bestbuy_us</td>\n",
              "      <td>Refrigerators</td>\n",
              "      <td>[\"Best Buy\", \"Appliances\", \"Refrigerators\", \"B...</td>\n",
              "      <td>Whirlpool</td>\n",
              "      <td>https://www.bestbuy.com/site/whirlpool-22-1-cu...</td>\n",
              "      <td>6112639</td>\n",
              "      <td>bestbuy_us</td>\n",
              "      <td>Whirlpool - 22.1 Cu. Ft. Bottom-Freezer Refrig...</td>\n",
              "      <td>'22.1':2 'black':9 'bottom':6 'bottom-freezer'...</td>\n",
              "      <td>NaN</td>\n",
              "      <td>{'brand': ['whirlpool'], 'Other_UPC': ['883049...</td>\n",
              "      <td>2020-06-05 18:40:24.418263</td>\n",
              "      <td>c407068f-f900-3478-a983-ad74754c1460</td>\n",
              "      <td>So much room</td>\n",
              "      <td>I love this fridge. So much room over having a...</td>\n",
              "      <td>5.0</td>\n",
              "      <td>2019-12-13</td>\n",
              "      <td>2019</td>\n",
              "      <td>12</td>\n",
              "      <td>50</td>\n",
              "      <td>13</td>\n",
              "      <td>2020-04-27 19:49:13.756253</td>\n",
              "      <td>us</td>\n",
              "      <td>False</td>\n",
              "      <td>['3928039', '3928048', '3979801', '6112639']</td>\n",
              "    </tr>\n",
              "    <tr>\n",
              "      <th>6</th>\n",
              "      <td>bestbuy_us</td>\n",
              "      <td>Refrigerators</td>\n",
              "      <td>[\"Best Buy\", \"Appliances\", \"Refrigerators\", \"B...</td>\n",
              "      <td>Whirlpool</td>\n",
              "      <td>https://www.bestbuy.com/site/whirlpool-21-9-cu...</td>\n",
              "      <td>3928048</td>\n",
              "      <td>bestbuy_us</td>\n",
              "      <td>Whirlpool - 21.9 Cu. Ft. Bottom-Freezer Refrig...</td>\n",
              "      <td>'21.9':2 'bottom':6 'bottom-freezer':5 'cu':3 ...</td>\n",
              "      <td>NaN</td>\n",
              "      <td>{'brand': ['whirlpool'], 'Other_UPC': ['883049...</td>\n",
              "      <td>2020-06-05 17:54:46.970540</td>\n",
              "      <td>c407068f-f900-3478-a983-ad74754c1460</td>\n",
              "      <td>So much room</td>\n",
              "      <td>I love this fridge. So much room over having a...</td>\n",
              "      <td>5.0</td>\n",
              "      <td>2019-12-13</td>\n",
              "      <td>2019</td>\n",
              "      <td>12</td>\n",
              "      <td>50</td>\n",
              "      <td>13</td>\n",
              "      <td>2020-04-28 14:12:47.787123</td>\n",
              "      <td>us</td>\n",
              "      <td>False</td>\n",
              "      <td>['3928039', '3928048', '3979801', '6112639']</td>\n",
              "    </tr>\n",
              "    <tr>\n",
              "      <th>7</th>\n",
              "      <td>lowes</td>\n",
              "      <td>Refrigerators</td>\n",
              "      <td>[\"Appliances\", \"Refrigerators\", \"Side-by-Side ...</td>\n",
              "      <td>Frigidaire</td>\n",
              "      <td>https://www.lowes.com/pd/Frigidaire-Gallery-22...</td>\n",
              "      <td>1000502823</td>\n",
              "      <td>lowes</td>\n",
              "      <td>Frigidaire Gallery 22-cu ft Counter-depth Side...</td>\n",
              "      <td>'22':3 'by':11 'counter':7 'counter-depth':6 '...</td>\n",
              "      <td>NaN</td>\n",
              "      <td>{'brand': ['Frigidaire', 'Frigidaire'], 'model...</td>\n",
              "      <td>2020-05-26 21:51:12.317173</td>\n",
              "      <td>189887995</td>\n",
              "      <td>My refrigerator stopped working in less than a...</td>\n",
              "      <td>We were away from the weekend and the frig wen...</td>\n",
              "      <td>2.0</td>\n",
              "      <td>2019-09-09</td>\n",
              "      <td>2019</td>\n",
              "      <td>9</td>\n",
              "      <td>37</td>\n",
              "      <td>9</td>\n",
              "      <td>2020-03-30 21:44:19.988966</td>\n",
              "      <td>us</td>\n",
              "      <td>False</td>\n",
              "      <td>['1000368269', '1000502823']</td>\n",
              "    </tr>\n",
              "    <tr>\n",
              "      <th>8</th>\n",
              "      <td>lowes</td>\n",
              "      <td>Refrigerators</td>\n",
              "      <td>[\"Appliances\", \"Refrigerators\", \"Side-by-Side ...</td>\n",
              "      <td>Frigidaire</td>\n",
              "      <td>https://www.lowes.com/pd/Frigidaire-Gallery-22...</td>\n",
              "      <td>1000368269</td>\n",
              "      <td>lowes</td>\n",
              "      <td>Frigidaire Gallery 22-cu ft Counter-depth Side...</td>\n",
              "      <td>'22':3 'black':20 'by':11 'counter':7 'counter...</td>\n",
              "      <td>NaN</td>\n",
              "      <td>{'brand': ['Frigidaire', 'Frigidaire'], 'model...</td>\n",
              "      <td>2020-05-26 21:51:01.809169</td>\n",
              "      <td>189887995</td>\n",
              "      <td>My refrigerator stopped working in less than a...</td>\n",
              "      <td>We were away from the weekend and the frig wen...</td>\n",
              "      <td>2.0</td>\n",
              "      <td>2019-09-09</td>\n",
              "      <td>2019</td>\n",
              "      <td>9</td>\n",
              "      <td>37</td>\n",
              "      <td>9</td>\n",
              "      <td>2020-03-30 20:57:14.319254</td>\n",
              "      <td>us</td>\n",
              "      <td>True</td>\n",
              "      <td>['1000368269', '1000502823']</td>\n",
              "    </tr>\n",
              "    <tr>\n",
              "      <th>9</th>\n",
              "      <td>homedepot</td>\n",
              "      <td>Refrigerators</td>\n",
              "      <td>NaN</td>\n",
              "      <td>Frigidaire Gallery</td>\n",
              "      <td>https://www.homedepot.com//p/FRIGIDAIRE-GALLER...</td>\n",
              "      <td>303015062</td>\n",
              "      <td>homedepot</td>\n",
              "      <td>22.1 cu. ft. Side by Side Refrigerator in Stai...</td>\n",
              "      <td>'22.1':1 'by':5 'counter':11 'cu':2 'depth':12...</td>\n",
              "      <td>NaN</td>\n",
              "      <td>{'brand': ['frigidaire gallery']}</td>\n",
              "      <td>2020-04-03 12:23:21.158517</td>\n",
              "      <td>189887995</td>\n",
              "      <td>My refrigerator stopped working in less than a...</td>\n",
              "      <td>We were away from the weekend and the frig wen...</td>\n",
              "      <td>2.0</td>\n",
              "      <td>2019-09-09</td>\n",
              "      <td>2019</td>\n",
              "      <td>9</td>\n",
              "      <td>37</td>\n",
              "      <td>9</td>\n",
              "      <td>2020-04-24 15:42:15.725709</td>\n",
              "      <td>us</td>\n",
              "      <td>True</td>\n",
              "      <td>['303015062']</td>\n",
              "    </tr>\n",
              "  </tbody>\n",
              "</table>\n",
              "</div>"
            ],
            "text/plain": [
              "     retailer  ...                                       variant\n",
              "0       lowes  ...                  ['1000859768', '1000859852']\n",
              "1       lowes  ...                  ['1000859768', '1000859852']\n",
              "2       lowes  ...                                ['1000289721']\n",
              "3  bestbuy_us  ...  ['3928039', '3928048', '3979801', '6112639']\n",
              "4  bestbuy_us  ...  ['3928039', '3928048', '3979801', '6112639']\n",
              "5  bestbuy_us  ...  ['3928039', '3928048', '3979801', '6112639']\n",
              "6  bestbuy_us  ...  ['3928039', '3928048', '3979801', '6112639']\n",
              "7       lowes  ...                  ['1000368269', '1000502823']\n",
              "8       lowes  ...                  ['1000368269', '1000502823']\n",
              "9   homedepot  ...                                 ['303015062']\n",
              "\n",
              "[10 rows x 25 columns]"
            ]
          },
          "metadata": {
            "tags": []
          },
          "execution_count": 19
        }
      ]
    },
    {
      "cell_type": "code",
      "metadata": {
        "id": "aZDGbn30u_VE",
        "colab_type": "code",
        "colab": {
          "base_uri": "https://localhost:8080/",
          "height": 561
        },
        "outputId": "9a6c5d2b-6ba3-4b44-fb0a-1c2bec641ffb"
      },
      "source": [
        "df.info()"
      ],
      "execution_count": 20,
      "outputs": [
        {
          "output_type": "stream",
          "text": [
            "<class 'pandas.core.frame.DataFrame'>\n",
            "RangeIndex: 20473 entries, 0 to 20472\n",
            "Data columns (total 25 columns):\n",
            " #   Column                Non-Null Count  Dtype  \n",
            "---  ------                --------------  -----  \n",
            " 0   retailer              20473 non-null  object \n",
            " 1   category              20473 non-null  object \n",
            " 2   breadcrumb            15677 non-null  object \n",
            " 3   brand                 20473 non-null  object \n",
            " 4   offer_url             20473 non-null  object \n",
            " 5   offer_sku             20473 non-null  object \n",
            " 6   offer_retailer        20473 non-null  object \n",
            " 7   offer_title           20473 non-null  object \n",
            " 8   title_keywords        20473 non-null  object \n",
            " 9   price                 993 non-null    float64\n",
            " 10  specs                 20473 non-null  object \n",
            " 11  offer_last_update_at  16619 non-null  object \n",
            " 12  review_id             20473 non-null  object \n",
            " 13  review_title          20356 non-null  object \n",
            " 14  review_body           20473 non-null  object \n",
            " 15  review_user_rating    20473 non-null  float64\n",
            " 16  review_posted_at      20473 non-null  object \n",
            " 17  review_year           20473 non-null  int64  \n",
            " 18  review_month          20473 non-null  int64  \n",
            " 19  review_week           20473 non-null  int64  \n",
            " 20  review_day            20473 non-null  int64  \n",
            " 21  review_collected_at   20473 non-null  object \n",
            " 22  locale                20473 non-null  object \n",
            " 23  original_offer        20473 non-null  bool   \n",
            " 24  variant               20473 non-null  object \n",
            "dtypes: bool(1), float64(2), int64(4), object(18)\n",
            "memory usage: 3.8+ MB\n"
          ],
          "name": "stdout"
        }
      ]
    },
    {
      "cell_type": "code",
      "metadata": {
        "id": "CeVPJ4oaii5F",
        "colab_type": "code",
        "colab": {
          "base_uri": "https://localhost:8080/",
          "height": 459
        },
        "outputId": "f77b71c3-cd73-4a07-bb0c-d2e1b2ff7063"
      },
      "source": [
        "# valores nulos\n",
        "df.isnull().sum()"
      ],
      "execution_count": 21,
      "outputs": [
        {
          "output_type": "execute_result",
          "data": {
            "text/plain": [
              "retailer                    0\n",
              "category                    0\n",
              "breadcrumb               4796\n",
              "brand                       0\n",
              "offer_url                   0\n",
              "offer_sku                   0\n",
              "offer_retailer              0\n",
              "offer_title                 0\n",
              "title_keywords              0\n",
              "price                   19480\n",
              "specs                       0\n",
              "offer_last_update_at     3854\n",
              "review_id                   0\n",
              "review_title              117\n",
              "review_body                 0\n",
              "review_user_rating          0\n",
              "review_posted_at            0\n",
              "review_year                 0\n",
              "review_month                0\n",
              "review_week                 0\n",
              "review_day                  0\n",
              "review_collected_at         0\n",
              "locale                      0\n",
              "original_offer              0\n",
              "variant                     0\n",
              "dtype: int64"
            ]
          },
          "metadata": {
            "tags": []
          },
          "execution_count": 21
        }
      ]
    },
    {
      "cell_type": "code",
      "metadata": {
        "id": "IGsYNh44VYoH",
        "colab_type": "code",
        "colab": {}
      },
      "source": [
        "# número de reviews por modelo de refrigerador\n",
        "df.offer_sku.value_counts()"
      ],
      "execution_count": null,
      "outputs": []
    },
    {
      "cell_type": "code",
      "metadata": {
        "id": "iL4s2gtcZIMQ",
        "colab_type": "code",
        "colab": {}
      },
      "source": [
        "# número de reviews por marcas\n",
        "df.brand.value_counts()"
      ],
      "execution_count": null,
      "outputs": []
    },
    {
      "cell_type": "code",
      "metadata": {
        "id": "JkJNCB047_Ln",
        "colab_type": "code",
        "colab": {
          "base_uri": "https://localhost:8080/",
          "height": 34
        },
        "outputId": "e33894a5-5f5d-4d22-f91a-3330183db901"
      },
      "source": [
        "# média do review_user_rating\n",
        "df.review_user_rating.mean()"
      ],
      "execution_count": 46,
      "outputs": [
        {
          "output_type": "execute_result",
          "data": {
            "text/plain": [
              "4.229179895472085"
            ]
          },
          "metadata": {
            "tags": []
          },
          "execution_count": 46
        }
      ]
    },
    {
      "cell_type": "markdown",
      "metadata": {
        "id": "uckWLTV09CQa",
        "colab_type": "text"
      },
      "source": [
        "### Limpeza e Padronização"
      ]
    },
    {
      "cell_type": "code",
      "metadata": {
        "id": "aGZvlYKkvgr2",
        "colab_type": "code",
        "colab": {}
      },
      "source": [
        "# remover pontuação\n",
        "df.review_body = df.review_body.str.replace(\"[^\\w\\s]\", \"\")"
      ],
      "execution_count": 25,
      "outputs": []
    },
    {
      "cell_type": "code",
      "metadata": {
        "id": "LlAzb4CF2Fz2",
        "colab_type": "code",
        "colab": {}
      },
      "source": [
        "# lower case\n",
        "df.review_body = df.review_body.apply(lambda x: x.lower())"
      ],
      "execution_count": 27,
      "outputs": []
    },
    {
      "cell_type": "code",
      "metadata": {
        "id": "RLzsSdOe2Z9O",
        "colab_type": "code",
        "colab": {}
      },
      "source": [
        "# caracteres\n",
        "df.review_body = df.review_body.str.replace(\"‰Ûª\", \"''\")"
      ],
      "execution_count": 29,
      "outputs": []
    },
    {
      "cell_type": "code",
      "metadata": {
        "id": "cbuNDGmbfZCX",
        "colab_type": "code",
        "colab": {}
      },
      "source": [
        "# tokenização\n",
        "from nltk.tokenize import word_tokenize\n",
        "import nltk\n",
        "nltk.download('punkt')\n",
        "\n",
        "[word_tokenize(t) for t in df.review_body]"
      ],
      "execution_count": null,
      "outputs": []
    },
    {
      "cell_type": "code",
      "metadata": {
        "id": "_eZbbPYkiNPV",
        "colab_type": "code",
        "colab": {
          "base_uri": "https://localhost:8080/",
          "height": 51
        },
        "outputId": "1b3c3058-a4a0-416d-8b29-83e3af213e4a"
      },
      "source": [
        "# stopwords\n",
        "import nltk\n",
        "nltk.download('stopwords')\n",
        "\n",
        "stops = nltk.corpus.stopwords.words('english')"
      ],
      "execution_count": 38,
      "outputs": [
        {
          "output_type": "stream",
          "text": [
            "[nltk_data] Downloading package stopwords to /root/nltk_data...\n",
            "[nltk_data]   Unzipping corpora/stopwords.zip.\n"
          ],
          "name": "stdout"
        }
      ]
    },
    {
      "cell_type": "code",
      "metadata": {
        "id": "HsYPaPea5vK8",
        "colab_type": "code",
        "colab": {}
      },
      "source": [
        "df.review_body = df.review_body.apply(lambda x: ' '.join([word for word in x.split() if word not in (stops)]))"
      ],
      "execution_count": 39,
      "outputs": []
    },
    {
      "cell_type": "code",
      "metadata": {
        "id": "BnLotLfpf43Y",
        "colab_type": "code",
        "colab": {}
      },
      "source": [
        "# # unigrama\n",
        "# from sklearn.feature_extraction.text import CountVectorizer\n",
        "\n",
        "# vect = CountVectorizer(ngram_range=(1,1))\n",
        "# vect.fit(df.review)\n",
        "# text_vect = vect.transform(df.review)\n",
        "\n",
        "# print(pd.DataFrame(text_vect.A, columns=vect.get_feature_names()).to_string())"
      ],
      "execution_count": null,
      "outputs": []
    },
    {
      "cell_type": "code",
      "metadata": {
        "id": "yJNt5X2Kf5Ao",
        "colab_type": "code",
        "colab": {}
      },
      "source": [
        "# bigrama\n",
        "# from sklearn.feature_extraction.text import CountVectorizer\n",
        "\n",
        "# vect = CountVectorizer(ngram_range=(2,2))\n",
        "# vect.fit(df.review)\n",
        "# text_vect = vect.transform(df.review)\n",
        "\n",
        "# print(pd.DataFrame(text_vect.A, columns=vect.get_feature_names()).to_string())"
      ],
      "execution_count": null,
      "outputs": []
    },
    {
      "cell_type": "code",
      "metadata": {
        "id": "YW8yb3VnhSoj",
        "colab_type": "code",
        "colab": {}
      },
      "source": [
        "# trigrama\n",
        "# from sklearn.feature_extraction.text import CountVectorizer\n",
        "\n",
        "# vect = CountVectorizer(ngram_range=(3,3))\n",
        "# vect.fit(df.review)\n",
        "# text_vect = vect.transform(df.review)\n",
        "\n",
        "# print(pd.DataFrame(text_vect.A, columns=vect.get_feature_names()).T.to_string())"
      ],
      "execution_count": null,
      "outputs": []
    },
    {
      "cell_type": "code",
      "metadata": {
        "id": "1iEssTrNWDJV",
        "colab_type": "code",
        "colab": {}
      },
      "source": [
        "from collections import Counter\n",
        "c = Counter()"
      ],
      "execution_count": 41,
      "outputs": []
    },
    {
      "cell_type": "code",
      "metadata": {
        "id": "fMtuZo60Zn7A",
        "colab_type": "code",
        "colab": {
          "base_uri": "https://localhost:8080/",
          "height": 527
        },
        "outputId": "b57bc259-e145-425c-cb0a-c5f95bfb796d"
      },
      "source": [
        "# 30 palavras que mais ocorrem\n",
        "df.review_body.str.lower().str.split(\" \").apply(c.update)\n",
        "c.most_common(30)"
      ],
      "execution_count": 44,
      "outputs": [
        {
          "output_type": "execute_result",
          "data": {
            "text/plain": [
              "[('fridge', 26672),\n",
              " ('ice', 20004),\n",
              " ('part', 17896),\n",
              " ('refrigerator', 17448),\n",
              " ('review', 17126),\n",
              " ('love', 17012),\n",
              " ('door', 16914),\n",
              " ('promotion', 16634),\n",
              " ('collected', 16632),\n",
              " ('freezer', 16020),\n",
              " ('space', 11880),\n",
              " ('great', 11842),\n",
              " ('water', 11022),\n",
              " ('one', 10668),\n",
              " ('like', 9646),\n",
              " ('bought', 8656),\n",
              " ('side', 7944),\n",
              " ('maker', 7626),\n",
              " ('room', 7208),\n",
              " ('new', 6670),\n",
              " ('good', 6046),\n",
              " ('shelves', 5880),\n",
              " ('would', 5784),\n",
              " ('much', 5638),\n",
              " ('inside', 5272),\n",
              " ('old', 5258),\n",
              " ('well', 5202),\n",
              " ('ago', 4936),\n",
              " ('drawer', 4650),\n",
              " ('doors', 4544)]"
            ]
          },
          "metadata": {
            "tags": []
          },
          "execution_count": 44
        }
      ]
    },
    {
      "cell_type": "code",
      "metadata": {
        "id": "qW8nv64chSyx",
        "colab_type": "code",
        "colab": {}
      },
      "source": [
        "# Reconhecimento de Entidades Nomeadas (NER)\n",
        "import spacy\n",
        "from spacy import displacy\n",
        "from collections import Counter\n",
        "import en_core_web_sm\n",
        "nlp = en_core_web_sm.load()"
      ],
      "execution_count": 51,
      "outputs": []
    },
    {
      "cell_type": "code",
      "metadata": {
        "id": "Ctg8G2S9HMdp",
        "colab_type": "code",
        "colab": {}
      },
      "source": [
        ""
      ],
      "execution_count": null,
      "outputs": []
    }
  ]
}
